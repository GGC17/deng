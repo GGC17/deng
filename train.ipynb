{
 "cells": [
  {
   "cell_type": "code",
   "execution_count": 1,
   "id": "muslim-semiconductor",
   "metadata": {
    "ExecuteTime": {
     "end_time": "2021-05-09T08:34:51.831251Z",
     "start_time": "2021-05-09T08:34:51.163630Z"
    }
   },
   "outputs": [],
   "source": [
    "import numpy as np\n",
    "import pandas as pd\n",
    "from sklearn.model_selection import GridSearchCV\n",
    "from sklearn.ensemble import RandomForestRegressor\n",
    "from sklearn.metrics import mean_absolute_error"
   ]
  },
  {
   "cell_type": "code",
   "execution_count": 2,
   "id": "equal-jones",
   "metadata": {
    "ExecuteTime": {
     "end_time": "2021-05-09T08:34:51.921479Z",
     "start_time": "2021-05-09T08:34:51.833893Z"
    }
   },
   "outputs": [],
   "source": [
    "rooth_path = 'data/'\n",
    "deng_sj_train = pd.read_csv(rooth_path + 'deng_sj_train.csv')\n",
    "deng_iq_train = pd.read_csv(rooth_path + 'deng_iq_train.csv')\n",
    "deng_sj_val = pd.read_csv(rooth_path + 'deng_sj_val.csv')\n",
    "deng_iq_val = pd.read_csv(rooth_path + 'deng_iq_val.csv')\n",
    "test_sj = pd.read_csv(rooth_path + 'test_sj_.csv')\n",
    "test_iq = pd.read_csv(rooth_path + 'test_iq_.csv')"
   ]
  },
  {
   "cell_type": "code",
   "execution_count": 3,
   "id": "former-administrator",
   "metadata": {
    "ExecuteTime": {
     "end_time": "2021-05-09T08:34:51.929660Z",
     "start_time": "2021-05-09T08:34:51.924277Z"
    }
   },
   "outputs": [],
   "source": [
    "def pred_regressor(model, regressor, X_train, X_val, y_train, y_val, params=None):  \n",
    "    \n",
    "    #Grid Search\n",
    "    grid_search = GridSearchCV(estimator=regressor, param_grid=params, cv=5, n_jobs=-1)\n",
    "\n",
    "    grid_search.fit(X_train, y_train)\n",
    "    y_pred = grid_search.predict(X_val)\n",
    "    \n",
    "    #Predictions\n",
    "    predictions = {'y_pred' : y_pred}\n",
    "    df_predictions = pd.DataFrame.from_dict(predictions)\n",
    "    \n",
    "    print (\"Iquitos Test  MAE error :\", mean_absolute_error(y_pred, y_val))\n",
    "    \n",
    "    return grid_search.best_estimator_, df_predictions"
   ]
  },
  {
   "cell_type": "code",
   "execution_count": 4,
   "id": "hazardous-nature",
   "metadata": {
    "ExecuteTime": {
     "end_time": "2021-05-09T08:34:51.942294Z",
     "start_time": "2021-05-09T08:34:51.932642Z"
    }
   },
   "outputs": [],
   "source": [
    "def rfr(X_train, X_val, y_train, y_val):\n",
    "    \n",
    "    model = 'Random Forest Regressor'\n",
    "    regressor = RandomForestRegressor(random_state=42, n_jobs=-1)\n",
    "    gs_params = {'n_estimators': [90,100,200,300], 'criterion': ['mae'], 'max_features': ['sqrt', 'auto', 'log2'],\n",
    "                'min_samples_split' : [7,8,9,10,12,13], 'max_depth': [2,3,4,5]}\n",
    "\n",
    "    regressor_rfr, pred_rfr = pred_regressor(model, regressor, X_train, X_val, y_train, y_val, params=gs_params)\n",
    "    \n",
    "    print('\\nBest Parameters:\\n',regressor_rfr)\n",
    "    \n",
    "    return regressor_rfr, pred_rfr"
   ]
  },
  {
   "cell_type": "code",
   "execution_count": null,
   "id": "declared-registration",
   "metadata": {},
   "outputs": [],
   "source": []
  },
  {
   "cell_type": "code",
   "execution_count": null,
   "id": "distant-lightning",
   "metadata": {},
   "outputs": [],
   "source": []
  },
  {
   "cell_type": "markdown",
   "id": "patient-potential",
   "metadata": {},
   "source": [
    "### San Juan"
   ]
  },
  {
   "cell_type": "code",
   "execution_count": 5,
   "id": "immediate-indian",
   "metadata": {
    "ExecuteTime": {
     "end_time": "2021-05-09T08:34:51.954798Z",
     "start_time": "2021-05-09T08:34:51.945068Z"
    }
   },
   "outputs": [],
   "source": [
    "X_train_sj = deng_sj_train.drop(columns = ['week_start_date', 'city', 'year', 'weekofyear', 'total_cases'])\n",
    "y_train_sj = deng_sj_train['total_cases']\n",
    "X_val_sj = deng_sj_val.drop(columns = ['week_start_date', 'city', 'year', 'weekofyear', 'total_cases'])\n",
    "y_val_sj = deng_sj_val['total_cases']"
   ]
  },
  {
   "cell_type": "code",
   "execution_count": 6,
   "id": "embedded-convenience",
   "metadata": {
    "ExecuteTime": {
     "end_time": "2021-05-09T09:14:16.058497Z",
     "start_time": "2021-05-09T08:34:51.956572Z"
    }
   },
   "outputs": [
    {
     "name": "stdout",
     "output_type": "stream",
     "text": [
      "Iquitos Test  MAE error : 19.570322580645158\n",
      "\n",
      "Best Parameters:\n",
      " RandomForestRegressor(criterion='mae', max_depth=3, min_samples_split=12,\n",
      "                      n_jobs=-1, random_state=42)\n"
     ]
    }
   ],
   "source": [
    "regressor_rfr_sj, pred_rfr_sj = rfr(X_train_sj, X_val_sj, y_train_sj, y_val_sj)"
   ]
  },
  {
   "cell_type": "code",
   "execution_count": null,
   "id": "joined-flexibility",
   "metadata": {},
   "outputs": [],
   "source": []
  },
  {
   "cell_type": "markdown",
   "id": "thermal-tragedy",
   "metadata": {},
   "source": [
    "### Iquitos"
   ]
  },
  {
   "cell_type": "code",
   "execution_count": 7,
   "id": "permanent-albania",
   "metadata": {
    "ExecuteTime": {
     "end_time": "2021-05-09T09:14:16.070803Z",
     "start_time": "2021-05-09T09:14:16.063105Z"
    }
   },
   "outputs": [],
   "source": [
    "X_train_iq = deng_iq_train.drop(columns = ['week_start_date', 'city', 'year', 'weekofyear', 'total_cases'])\n",
    "y_train_iq = deng_iq_train['total_cases']\n",
    "X_val_iq = deng_iq_val.drop(columns = ['week_start_date', 'city', 'year', 'weekofyear', 'total_cases'])\n",
    "y_val_iq = deng_iq_val['total_cases']"
   ]
  },
  {
   "cell_type": "code",
   "execution_count": 8,
   "id": "criminal-tuner",
   "metadata": {
    "ExecuteTime": {
     "end_time": "2021-05-09T09:23:37.087184Z",
     "start_time": "2021-05-09T09:14:16.074318Z"
    }
   },
   "outputs": [
    {
     "name": "stdout",
     "output_type": "stream",
     "text": [
      "Iquitos Test  MAE error : 3.646057692307692\n",
      "\n",
      "Best Parameters:\n",
      " RandomForestRegressor(criterion='mae', max_depth=2, max_features='log2',\n",
      "                      min_samples_split=8, n_estimators=200, n_jobs=-1,\n",
      "                      random_state=42)\n"
     ]
    }
   ],
   "source": [
    "regressor_rfr_iq, pred_rfr_iq = rfr(X_train_iq, X_val_iq, y_train_iq, y_val_iq)"
   ]
  },
  {
   "cell_type": "code",
   "execution_count": null,
   "id": "executive-charles",
   "metadata": {},
   "outputs": [],
   "source": []
  }
 ],
 "metadata": {
  "kernelspec": {
   "display_name": "Python 3",
   "language": "python",
   "name": "python3"
  },
  "language_info": {
   "codemirror_mode": {
    "name": "ipython",
    "version": 3
   },
   "file_extension": ".py",
   "mimetype": "text/x-python",
   "name": "python",
   "nbconvert_exporter": "python",
   "pygments_lexer": "ipython3",
   "version": "3.7.2"
  }
 },
 "nbformat": 4,
 "nbformat_minor": 5
}
