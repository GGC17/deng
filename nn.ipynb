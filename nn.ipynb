{
 "cells": [
  {
   "cell_type": "code",
   "execution_count": 698,
   "id": "arbitrary-infection",
   "metadata": {
    "ExecuteTime": {
     "end_time": "2021-06-26T11:16:57.517540Z",
     "start_time": "2021-06-26T11:16:57.507337Z"
    }
   },
   "outputs": [],
   "source": [
    "import numpy as np\n",
    "import pandas as pd\n",
    "import matplotlib.pyplot as plt\n",
    "import seaborn as sns\n",
    "from sklearn.preprocessing import RobustScaler\n",
    "from tensorflow.keras import models, layers\n",
    "from tensorflow.keras.callbacks import EarlyStopping"
   ]
  },
  {
   "cell_type": "code",
   "execution_count": 699,
   "id": "right-instrument",
   "metadata": {
    "ExecuteTime": {
     "end_time": "2021-06-26T11:16:57.556696Z",
     "start_time": "2021-06-26T11:16:57.523323Z"
    }
   },
   "outputs": [],
   "source": [
    "rooth_path = 'data/'\n",
    "deng_sj = pd.read_csv(rooth_path + 'deng_sj.csv')\n",
    "deng_iq = pd.read_csv(rooth_path + 'deng_iq.csv')\n",
    "test_sj = pd.read_csv(rooth_path + 'test_sj.csv')\n",
    "test_iq = pd.read_csv(rooth_path + 'test_iq.csv')"
   ]
  },
  {
   "cell_type": "code",
   "execution_count": 700,
   "id": "consistent-footwear",
   "metadata": {
    "ExecuteTime": {
     "end_time": "2021-06-26T11:16:57.564782Z",
     "start_time": "2021-06-26T11:16:57.559694Z"
    }
   },
   "outputs": [],
   "source": [
    "def convert_celsius(df):\n",
    "    \n",
    "    k = 273.15\n",
    "    \n",
    "    # convert to celsius\n",
    "    df['reanalysis_air_temp_k'] -= k\n",
    "    df['reanalysis_avg_temp_k'] -= k\n",
    "    df['reanalysis_dew_point_temp_k'] -= k\n",
    "    df['reanalysis_max_air_temp_k'] -= k\n",
    "    df['reanalysis_min_air_temp_k'] -= k\n",
    "    \n",
    "    # change features names\n",
    "    col = df.columns\n",
    "    col = col.str.replace('temp_k', 'temp_c')\n",
    "    df.columns = col.str.replace('tdtr_k', 'tdtr_c')\n",
    "    \n",
    "    return df"
   ]
  },
  {
   "cell_type": "code",
   "execution_count": 701,
   "id": "contemporary-lightning",
   "metadata": {
    "ExecuteTime": {
     "end_time": "2021-06-26T11:16:57.593528Z",
     "start_time": "2021-06-26T11:16:57.567328Z"
    }
   },
   "outputs": [],
   "source": [
    "deng_sj = convert_celsius(deng_sj)\n",
    "deng_iq = convert_celsius(deng_iq)\n",
    "test_sj = convert_celsius(test_sj)\n",
    "test_iq = convert_celsius(test_iq)"
   ]
  },
  {
   "cell_type": "code",
   "execution_count": 702,
   "id": "respective-front",
   "metadata": {
    "ExecuteTime": {
     "end_time": "2021-06-26T11:16:57.602328Z",
     "start_time": "2021-06-26T11:16:57.596995Z"
    }
   },
   "outputs": [],
   "source": [
    "def mean_ndvi(df):\n",
    "    \n",
    "    df['ndvi_mean'] = df[df.columns[3:7]].mean(axis = 1)\n",
    "    \n",
    "    return df"
   ]
  },
  {
   "cell_type": "code",
   "execution_count": 703,
   "id": "employed-repeat",
   "metadata": {
    "ExecuteTime": {
     "end_time": "2021-06-26T11:16:57.618386Z",
     "start_time": "2021-06-26T11:16:57.608096Z"
    }
   },
   "outputs": [],
   "source": [
    "deng_sj = mean_ndvi(deng_sj)\n",
    "deng_iq = mean_ndvi(deng_iq)\n",
    "test_sj = mean_ndvi(test_sj)\n",
    "test_iq = mean_ndvi(test_iq)"
   ]
  },
  {
   "cell_type": "code",
   "execution_count": 704,
   "id": "uniform-manitoba",
   "metadata": {
    "ExecuteTime": {
     "end_time": "2021-06-26T11:16:57.625529Z",
     "start_time": "2021-06-26T11:16:57.621530Z"
    }
   },
   "outputs": [],
   "source": [
    "def feature_selection(df, columns):\n",
    "    \n",
    "    df.drop(columns = columns, inplace=True)\n",
    "    \n",
    "    return df"
   ]
  },
  {
   "cell_type": "code",
   "execution_count": 705,
   "id": "norwegian-links",
   "metadata": {
    "ExecuteTime": {
     "end_time": "2021-06-26T11:16:57.641787Z",
     "start_time": "2021-06-26T11:16:57.630238Z"
    }
   },
   "outputs": [],
   "source": [
    "deng_sj = feature_selection(deng_sj, ['reanalysis_air_temp_c', 'reanalysis_sat_precip_amt_mm', 'reanalysis_dew_point_temp_c'])\n",
    "deng_iq = feature_selection(deng_iq, ['reanalysis_avg_temp_c', 'reanalysis_sat_precip_amt_mm', 'reanalysis_dew_point_temp_c'])\n",
    "test_sj = feature_selection(test_sj, ['reanalysis_air_temp_c', 'reanalysis_sat_precip_amt_mm', 'reanalysis_dew_point_temp_c'])\n",
    "test_iq = feature_selection(test_iq, ['reanalysis_avg_temp_c', 'reanalysis_sat_precip_amt_mm', 'reanalysis_dew_point_temp_c'])"
   ]
  },
  {
   "cell_type": "code",
   "execution_count": 706,
   "id": "dirty-universe",
   "metadata": {
    "ExecuteTime": {
     "end_time": "2021-06-26T11:16:57.650829Z",
     "start_time": "2021-06-26T11:16:57.644390Z"
    }
   },
   "outputs": [],
   "source": [
    "def rolling_feat(df, df_test, roll_win_size, city):\n",
    "    \n",
    "    # save total cases in a dataframe\n",
    "    total_cases = df[['city', 'year', 'weekofyear', 'total_cases']]\n",
    "    \n",
    "    df.drop(columns=['total_cases'], inplace=True)\n",
    "    \n",
    "    total_df = pd.concat([df, df_test], axis=0)\n",
    "    \n",
    "    cols = total_df.columns[4:] #Features columns excluding week_start_date, city and weekofyear\n",
    "    \n",
    "    for col in cols:\n",
    "        total_df[col + '_sum']  = total_df[col].rolling(roll_win_size).sum()\n",
    "        total_df[col + '_av'] = total_df[col].rolling(roll_win_size).mean()\n",
    "        total_df[col + '_var']  = total_df[col].rolling(roll_win_size).var()\n",
    "        \n",
    "    # Split train-test again\n",
    "    \n",
    "    if city == 'San Juan':\n",
    "        df_ = total_df[total_df.week_start_date < '2008-04-29']\n",
    "        df_test = total_df[total_df.week_start_date >= '2008-04-29']\n",
    "    \n",
    "    if city == 'Iquitos':\n",
    "        df_ = total_df[total_df.week_start_date < '2010-07-02']\n",
    "        df_test = total_df[total_df.week_start_date >= '2010-07-02']\n",
    "    \n",
    "    df_ = df_.merge(total_cases, on=['city', 'year', 'weekofyear'])\n",
    "      \n",
    "    df_.dropna(axis=0, inplace=True) #trim rows with null values of rolling features\n",
    "    \n",
    "    return df_, df_test"
   ]
  },
  {
   "cell_type": "code",
   "execution_count": 707,
   "id": "isolated-serial",
   "metadata": {
    "ExecuteTime": {
     "end_time": "2021-06-26T11:16:57.736092Z",
     "start_time": "2021-06-26T11:16:57.654184Z"
    }
   },
   "outputs": [],
   "source": [
    "deng_sj_train, test_sj = rolling_feat(deng_sj, test_sj, 4, 'San Juan')\n",
    "deng_iq_train, test_iq = rolling_feat(deng_iq, test_iq, 4, 'Iquitos')"
   ]
  },
  {
   "cell_type": "code",
   "execution_count": 708,
   "id": "homeless-feelings",
   "metadata": {
    "ExecuteTime": {
     "end_time": "2021-06-26T11:16:57.743453Z",
     "start_time": "2021-06-26T11:16:57.738602Z"
    }
   },
   "outputs": [],
   "source": [
    "def enc_quarters(df):\n",
    "    \n",
    "    df['week_start_date'] = pd.to_datetime(df.week_start_date)\n",
    "    df['quarter'] = df['week_start_date'].dt.quarter\n",
    "    \n",
    "    df = pd.get_dummies(df, columns=['quarter'])\n",
    "    \n",
    "    return df"
   ]
  },
  {
   "cell_type": "code",
   "execution_count": 709,
   "id": "according-johnston",
   "metadata": {
    "ExecuteTime": {
     "end_time": "2021-06-26T11:16:57.774129Z",
     "start_time": "2021-06-26T11:16:57.745978Z"
    }
   },
   "outputs": [],
   "source": [
    "deng_sj_train = enc_quarters(deng_sj_train)\n",
    "deng_iq_train = enc_quarters(deng_iq_train)\n",
    "test_sj = enc_quarters(test_sj)\n",
    "test_iq = enc_quarters(test_iq)"
   ]
  },
  {
   "cell_type": "code",
   "execution_count": 710,
   "id": "latin-satisfaction",
   "metadata": {
    "ExecuteTime": {
     "end_time": "2021-06-26T11:16:57.780874Z",
     "start_time": "2021-06-26T11:16:57.776296Z"
    }
   },
   "outputs": [],
   "source": [
    "def split_df(df):\n",
    "    \n",
    "    split = df.shape[0] - df.shape[0]*0.1 # Split with train 90% and validation 10%\n",
    "    \n",
    "    df_train = df[df.index < split]\n",
    "    df_val = df[df.index >= split]\n",
    "    \n",
    "    \n",
    "    return df_train, df_val"
   ]
  },
  {
   "cell_type": "code",
   "execution_count": 711,
   "id": "cardiac-invalid",
   "metadata": {
    "ExecuteTime": {
     "end_time": "2021-06-26T11:16:57.793364Z",
     "start_time": "2021-06-26T11:16:57.783331Z"
    }
   },
   "outputs": [],
   "source": [
    "deng_sj_train, deng_sj_val = split_df(deng_sj_train) #SJ split data in train-validation\n",
    "deng_iq_train, deng_iq_val = split_df(deng_iq_train) #IQ split data in train-validation"
   ]
  },
  {
   "cell_type": "markdown",
   "id": "prostate-bahrain",
   "metadata": {},
   "source": [
    "#### San Juan"
   ]
  },
  {
   "cell_type": "code",
   "execution_count": 712,
   "id": "acoustic-washer",
   "metadata": {
    "ExecuteTime": {
     "end_time": "2021-06-26T11:16:57.806479Z",
     "start_time": "2021-06-26T11:16:57.796528Z"
    }
   },
   "outputs": [],
   "source": [
    "X_train_sj = deng_sj_train.drop(columns = ['week_start_date', 'city', 'year', 'weekofyear', 'total_cases'])\n",
    "y_train_sj = deng_sj_train['total_cases']\n",
    "X_val_sj = deng_sj_val.drop(columns = ['week_start_date', 'city', 'year', 'weekofyear', 'total_cases'])\n",
    "y_val_sj = deng_sj_val['total_cases']\n",
    "X_test_sj = test_sj.drop(columns = ['week_start_date', 'city', 'year', 'weekofyear'])"
   ]
  },
  {
   "cell_type": "code",
   "execution_count": 713,
   "id": "fatty-louisville",
   "metadata": {
    "ExecuteTime": {
     "end_time": "2021-06-26T11:16:57.839399Z",
     "start_time": "2021-06-26T11:16:57.809566Z"
    }
   },
   "outputs": [],
   "source": [
    "scaler_sj = RobustScaler()\n",
    "X_train_sj = scaler_sj.fit_transform(X_train_sj)\n",
    "X_val_sj = scaler_sj.transform(X_val_sj)"
   ]
  },
  {
   "cell_type": "code",
   "execution_count": 714,
   "id": "boolean-helicopter",
   "metadata": {
    "ExecuteTime": {
     "end_time": "2021-06-26T11:17:03.750177Z",
     "start_time": "2021-06-26T11:16:57.841748Z"
    }
   },
   "outputs": [
    {
     "name": "stdout",
     "output_type": "stream",
     "text": [
      "Epoch 1/1000\n",
      "48/48 [==============================] - 1s 5ms/step - loss: 55.2418 - mae: 55.2418 - val_loss: 22.6743 - val_mae: 22.6743\n",
      "Epoch 2/1000\n",
      "48/48 [==============================] - 0s 3ms/step - loss: 59.8909 - mae: 59.8909 - val_loss: 22.7922 - val_mae: 22.7922\n",
      "Epoch 3/1000\n",
      "48/48 [==============================] - 0s 3ms/step - loss: 48.1172 - mae: 48.1172 - val_loss: 23.4440 - val_mae: 23.4440\n",
      "Epoch 4/1000\n",
      "48/48 [==============================] - 0s 2ms/step - loss: 51.9756 - mae: 51.9756 - val_loss: 22.6516 - val_mae: 22.6516\n",
      "Epoch 5/1000\n",
      "48/48 [==============================] - 0s 3ms/step - loss: 42.5686 - mae: 42.5686 - val_loss: 23.2783 - val_mae: 23.2783\n",
      "Epoch 6/1000\n",
      "48/48 [==============================] - 0s 5ms/step - loss: 43.8115 - mae: 43.8115 - val_loss: 22.3709 - val_mae: 22.3709\n",
      "Epoch 7/1000\n",
      "48/48 [==============================] - 0s 3ms/step - loss: 38.6100 - mae: 38.6100 - val_loss: 23.1725 - val_mae: 23.1725\n",
      "Epoch 8/1000\n",
      "48/48 [==============================] - 0s 3ms/step - loss: 37.9627 - mae: 37.9627 - val_loss: 22.0648 - val_mae: 22.0648\n",
      "Epoch 9/1000\n",
      "48/48 [==============================] - 0s 3ms/step - loss: 38.2757 - mae: 38.2757 - val_loss: 20.6821 - val_mae: 20.6821\n",
      "Epoch 10/1000\n",
      "48/48 [==============================] - 0s 3ms/step - loss: 36.4991 - mae: 36.4991 - val_loss: 20.2800 - val_mae: 20.2800\n",
      "Epoch 11/1000\n",
      "48/48 [==============================] - 0s 3ms/step - loss: 31.4112 - mae: 31.4112 - val_loss: 19.8804 - val_mae: 19.8804\n",
      "Epoch 12/1000\n",
      "48/48 [==============================] - 0s 3ms/step - loss: 34.4902 - mae: 34.4902 - val_loss: 19.1312 - val_mae: 19.1312\n",
      "Epoch 13/1000\n",
      "48/48 [==============================] - 0s 3ms/step - loss: 35.8059 - mae: 35.8059 - val_loss: 19.0658 - val_mae: 19.0658\n",
      "Epoch 14/1000\n",
      "48/48 [==============================] - 0s 3ms/step - loss: 29.2888 - mae: 29.2888 - val_loss: 18.4266 - val_mae: 18.4266\n",
      "Epoch 15/1000\n",
      "48/48 [==============================] - 0s 3ms/step - loss: 30.1768 - mae: 30.1768 - val_loss: 17.6606 - val_mae: 17.6606\n",
      "Epoch 16/1000\n",
      "48/48 [==============================] - 0s 3ms/step - loss: 32.7328 - mae: 32.7328 - val_loss: 17.6373 - val_mae: 17.6373\n",
      "Epoch 17/1000\n",
      "48/48 [==============================] - 0s 3ms/step - loss: 32.3296 - mae: 32.3296 - val_loss: 17.6401 - val_mae: 17.6401\n",
      "Epoch 18/1000\n",
      "48/48 [==============================] - 0s 3ms/step - loss: 28.3292 - mae: 28.3292 - val_loss: 16.9965 - val_mae: 16.9965\n",
      "Epoch 19/1000\n",
      "48/48 [==============================] - 0s 3ms/step - loss: 31.9769 - mae: 31.9769 - val_loss: 16.6811 - val_mae: 16.6811\n",
      "Epoch 20/1000\n",
      "48/48 [==============================] - 0s 3ms/step - loss: 31.4702 - mae: 31.4702 - val_loss: 16.6312 - val_mae: 16.6312\n",
      "Epoch 21/1000\n",
      "48/48 [==============================] - 0s 3ms/step - loss: 28.7603 - mae: 28.7603 - val_loss: 16.4298 - val_mae: 16.4298\n",
      "Epoch 22/1000\n",
      "48/48 [==============================] - 0s 3ms/step - loss: 31.8304 - mae: 31.8304 - val_loss: 16.5556 - val_mae: 16.5556\n",
      "Epoch 23/1000\n",
      "48/48 [==============================] - 0s 3ms/step - loss: 29.0200 - mae: 29.0200 - val_loss: 16.6796 - val_mae: 16.6796\n",
      "Epoch 24/1000\n",
      "48/48 [==============================] - 0s 3ms/step - loss: 28.6266 - mae: 28.6266 - val_loss: 16.6698 - val_mae: 16.6698\n",
      "Epoch 25/1000\n",
      "48/48 [==============================] - 0s 3ms/step - loss: 32.1497 - mae: 32.1497 - val_loss: 16.6969 - val_mae: 16.6969\n",
      "Epoch 26/1000\n",
      "48/48 [==============================] - 0s 3ms/step - loss: 31.1757 - mae: 31.1757 - val_loss: 16.6709 - val_mae: 16.6709\n",
      "Epoch 27/1000\n",
      "48/48 [==============================] - 0s 3ms/step - loss: 31.5767 - mae: 31.5767 - val_loss: 16.4983 - val_mae: 16.4983\n",
      "Epoch 28/1000\n",
      "48/48 [==============================] - 0s 3ms/step - loss: 29.0439 - mae: 29.0439 - val_loss: 16.3281 - val_mae: 16.3281\n",
      "Epoch 29/1000\n",
      "48/48 [==============================] - 0s 3ms/step - loss: 29.1136 - mae: 29.1136 - val_loss: 16.6978 - val_mae: 16.6978\n",
      "Epoch 30/1000\n",
      "48/48 [==============================] - 0s 3ms/step - loss: 27.7286 - mae: 27.7286 - val_loss: 16.8061 - val_mae: 16.8061\n",
      "Epoch 31/1000\n",
      "48/48 [==============================] - 0s 3ms/step - loss: 30.6427 - mae: 30.6427 - val_loss: 16.9302 - val_mae: 16.9302\n",
      "Epoch 32/1000\n",
      "48/48 [==============================] - 0s 3ms/step - loss: 28.8637 - mae: 28.8637 - val_loss: 16.7542 - val_mae: 16.7542\n",
      "Epoch 33/1000\n",
      "48/48 [==============================] - 0s 3ms/step - loss: 29.9931 - mae: 29.9931 - val_loss: 16.5915 - val_mae: 16.5915\n",
      "Epoch 34/1000\n",
      "48/48 [==============================] - 0s 3ms/step - loss: 30.8734 - mae: 30.8734 - val_loss: 16.5983 - val_mae: 16.5983\n",
      "Epoch 35/1000\n",
      "48/48 [==============================] - 0s 3ms/step - loss: 30.9872 - mae: 30.9872 - val_loss: 16.6852 - val_mae: 16.6852\n",
      "Epoch 36/1000\n",
      "48/48 [==============================] - 0s 3ms/step - loss: 29.1303 - mae: 29.1303 - val_loss: 16.8297 - val_mae: 16.8297\n",
      "Epoch 37/1000\n",
      "48/48 [==============================] - 0s 3ms/step - loss: 28.8487 - mae: 28.8487 - val_loss: 16.6977 - val_mae: 16.6977\n",
      "Epoch 38/1000\n",
      "48/48 [==============================] - 0s 3ms/step - loss: 25.6787 - mae: 25.6787 - val_loss: 16.6187 - val_mae: 16.6187\n",
      "Restoring model weights from the end of the best epoch.\n",
      "Epoch 00038: early stopping\n",
      "3/3 [==============================] - 0s 3ms/step - loss: 16.6807 - mae: 16.6807\n"
     ]
    },
    {
     "data": {
      "text/plain": [
       "[16.680747985839844, 16.680747985839844]"
      ]
     },
     "execution_count": 714,
     "metadata": {},
     "output_type": "execute_result"
    }
   ],
   "source": [
    "# LAYERS\n",
    "def init_model():\n",
    "\n",
    "    model = models.Sequential()\n",
    "    model.add(layers.Dense(20, activation='relu'))\n",
    "    model.add(layers.Dropout(rate=0.4))\n",
    "    model.add(layers.Dense(15, activation='relu'))\n",
    "    model.add(layers.Dropout(rate=0.4))\n",
    "    model.add(layers.Dense(10, activation='relu'))\n",
    "    model.add(layers.Dropout(rate=0.4))\n",
    "    model.add(layers.Dense(5, activation='relu'))\n",
    "    model.add(layers.Dropout(rate=0.4))\n",
    "    model.add(layers.Dense(1, activation='linear'))\n",
    "    \n",
    "    model.compile(loss='mean_absolute_error', \n",
    "                  optimizer='adam', \n",
    "                  metrics=['mae'])\n",
    "    return model\n",
    "\n",
    "model = init_model()\n",
    "\n",
    "es = EarlyStopping(monitor='val_loss', mode='min', verbose=1, patience=10, restore_best_weights=True)\n",
    "\n",
    "history = model.fit(X_train_sj, y_train_sj,\n",
    "            validation_split=0.10,\n",
    "            epochs=1000, \n",
    "            batch_size=16,\n",
    "            callbacks=[es])\n",
    "model.evaluate(X_val_sj, y_val_sj)"
   ]
  },
  {
   "cell_type": "code",
   "execution_count": 715,
   "id": "sporting-cradle",
   "metadata": {
    "ExecuteTime": {
     "end_time": "2021-06-26T11:17:04.081768Z",
     "start_time": "2021-06-26T11:17:03.752754Z"
    }
   },
   "outputs": [
    {
     "data": {
      "image/png": "[encoded data removed]",
      "text/plain": [
       "<Figure size 432x288 with 1 Axes>"
      ]
     },
     "metadata": {
      "needs_background": "light"
     },
     "output_type": "display_data"
    },
    {
     "data": {
      "image/png": "[encoded data removed]",
      "text/plain": [
       "<Figure size 432x288 with 1 Axes>"
      ]
     },
     "metadata": {
      "needs_background": "light"
     },
     "output_type": "display_data"
    }
   ],
   "source": [
    "def plot_loss_mae(history):\n",
    "    plt.plot(history.history['loss'])\n",
    "    plt.plot(history.history['val_loss'])\n",
    "    plt.title('Model loss')\n",
    "    plt.ylabel('Loss')\n",
    "    plt.xlabel('Epoch')\n",
    "    plt.legend(['Train', 'Validation'], loc='best')\n",
    "    plt.show()\n",
    "    \n",
    "    plt.plot(history.history['mae'])\n",
    "    plt.plot(history.history['val_mae'])\n",
    "    plt.title('Model Mean Absolute Error')\n",
    "    plt.ylabel('Mean Absolute Error')\n",
    "    plt.xlabel('Epoch')\n",
    "    plt.legend(['Train', 'Validation'], loc='best')\n",
    "    plt.show()\n",
    "plot_loss_mae(history)"
   ]
  },
  {
   "cell_type": "code",
   "execution_count": 716,
   "id": "incoming-module",
   "metadata": {
    "ExecuteTime": {
     "end_time": "2021-06-26T11:17:04.093704Z",
     "start_time": "2021-06-26T11:17:04.084299Z"
    }
   },
   "outputs": [],
   "source": [
    "X_test_sj = scaler_sj.transform(X_test_sj)"
   ]
  },
  {
   "cell_type": "code",
   "execution_count": 717,
   "id": "satisfied-confidence",
   "metadata": {
    "ExecuteTime": {
     "end_time": "2021-06-26T11:17:04.191636Z",
     "start_time": "2021-06-26T11:17:04.096402Z"
    }
   },
   "outputs": [],
   "source": [
    "y_pred_sj = model.predict(X_test_sj)"
   ]
  },
  {
   "cell_type": "code",
   "execution_count": 718,
   "id": "verified-amber",
   "metadata": {
    "ExecuteTime": {
     "end_time": "2021-06-26T11:17:04.202565Z",
     "start_time": "2021-06-26T11:17:04.193934Z"
    }
   },
   "outputs": [
    {
     "data": {
      "text/plain": [
       "array([[ 7],\n",
       "       [ 7],\n",
       "       [ 6],\n",
       "       [ 6],\n",
       "       [ 6],\n",
       "       [ 5],\n",
       "       [ 5],\n",
       "       [ 7],\n",
       "       [ 8],\n",
       "       [ 8],\n",
       "       [ 9],\n",
       "       [10],\n",
       "       [11],\n",
       "       [12],\n",
       "       [15],\n",
       "       [19],\n",
       "       [18],\n",
       "       [19],\n",
       "       [22],\n",
       "       [25],\n",
       "       [21],\n",
       "       [24],\n",
       "       [21],\n",
       "       [17],\n",
       "       [18],\n",
       "       [13],\n",
       "       [15],\n",
       "       [17],\n",
       "       [14],\n",
       "       [13],\n",
       "       [12],\n",
       "       [11],\n",
       "       [ 9],\n",
       "       [ 8],\n",
       "       [ 8],\n",
       "       [10],\n",
       "       [12],\n",
       "       [ 9],\n",
       "       [ 5],\n",
       "       [ 6],\n",
       "       [ 6],\n",
       "       [ 6],\n",
       "       [ 7],\n",
       "       [ 6],\n",
       "       [ 5],\n",
       "       [ 7],\n",
       "       [ 7],\n",
       "       [ 8],\n",
       "       [ 8],\n",
       "       [ 7],\n",
       "       [ 7],\n",
       "       [ 7],\n",
       "       [ 5],\n",
       "       [ 6],\n",
       "       [ 7],\n",
       "       [ 8],\n",
       "       [ 8],\n",
       "       [ 8],\n",
       "       [ 9],\n",
       "       [ 9],\n",
       "       [ 8],\n",
       "       [11],\n",
       "       [11],\n",
       "       [10],\n",
       "       [12],\n",
       "       [15],\n",
       "       [14],\n",
       "       [15],\n",
       "       [18],\n",
       "       [17],\n",
       "       [18],\n",
       "       [18],\n",
       "       [19],\n",
       "       [17],\n",
       "       [20],\n",
       "       [22],\n",
       "       [22],\n",
       "       [20],\n",
       "       [19],\n",
       "       [15],\n",
       "       [11],\n",
       "       [15],\n",
       "       [13],\n",
       "       [12],\n",
       "       [11],\n",
       "       [ 9],\n",
       "       [ 7],\n",
       "       [ 5],\n",
       "       [10],\n",
       "       [12],\n",
       "       [10],\n",
       "       [ 6],\n",
       "       [ 9],\n",
       "       [ 9],\n",
       "       [ 5],\n",
       "       [ 5],\n",
       "       [ 4],\n",
       "       [ 9],\n",
       "       [ 7],\n",
       "       [ 7],\n",
       "       [ 7],\n",
       "       [ 4],\n",
       "       [ 5],\n",
       "       [ 5],\n",
       "       [ 8],\n",
       "       [ 9],\n",
       "       [ 7],\n",
       "       [ 8],\n",
       "       [ 8],\n",
       "       [18],\n",
       "       [17],\n",
       "       [15],\n",
       "       [18],\n",
       "       [15],\n",
       "       [15],\n",
       "       [16],\n",
       "       [19],\n",
       "       [18],\n",
       "       [18],\n",
       "       [22],\n",
       "       [19],\n",
       "       [18],\n",
       "       [22],\n",
       "       [22],\n",
       "       [21],\n",
       "       [22],\n",
       "       [20],\n",
       "       [21],\n",
       "       [24],\n",
       "       [21],\n",
       "       [17],\n",
       "       [18],\n",
       "       [20],\n",
       "       [15],\n",
       "       [13],\n",
       "       [13],\n",
       "       [ 8],\n",
       "       [ 7],\n",
       "       [ 9],\n",
       "       [ 9],\n",
       "       [10],\n",
       "       [13],\n",
       "       [10],\n",
       "       [ 8],\n",
       "       [ 6],\n",
       "       [ 6],\n",
       "       [ 5],\n",
       "       [ 6],\n",
       "       [ 8],\n",
       "       [ 7],\n",
       "       [ 9],\n",
       "       [ 8],\n",
       "       [ 7],\n",
       "       [ 7],\n",
       "       [ 6],\n",
       "       [ 6],\n",
       "       [ 6],\n",
       "       [ 6],\n",
       "       [ 7],\n",
       "       [13],\n",
       "       [18],\n",
       "       [17],\n",
       "       [19],\n",
       "       [26],\n",
       "       [17],\n",
       "       [19],\n",
       "       [18],\n",
       "       [15],\n",
       "       [15],\n",
       "       [17],\n",
       "       [15],\n",
       "       [17],\n",
       "       [16],\n",
       "       [20],\n",
       "       [17],\n",
       "       [17],\n",
       "       [20],\n",
       "       [15],\n",
       "       [18],\n",
       "       [18],\n",
       "       [18],\n",
       "       [16],\n",
       "       [14],\n",
       "       [11],\n",
       "       [12],\n",
       "       [12],\n",
       "       [13],\n",
       "       [11],\n",
       "       [ 7],\n",
       "       [12],\n",
       "       [10],\n",
       "       [ 9],\n",
       "       [10],\n",
       "       [12],\n",
       "       [10],\n",
       "       [ 6],\n",
       "       [ 6],\n",
       "       [ 6],\n",
       "       [ 6],\n",
       "       [ 7],\n",
       "       [ 6],\n",
       "       [ 6],\n",
       "       [ 6],\n",
       "       [ 6],\n",
       "       [ 7],\n",
       "       [ 6],\n",
       "       [ 6],\n",
       "       [ 7],\n",
       "       [ 5],\n",
       "       [ 6],\n",
       "       [ 7],\n",
       "       [ 8],\n",
       "       [ 6],\n",
       "       [ 5],\n",
       "       [ 6],\n",
       "       [ 7],\n",
       "       [ 9],\n",
       "       [12],\n",
       "       [13],\n",
       "       [14],\n",
       "       [14],\n",
       "       [14],\n",
       "       [14],\n",
       "       [16],\n",
       "       [18],\n",
       "       [19],\n",
       "       [19],\n",
       "       [16],\n",
       "       [16],\n",
       "       [14],\n",
       "       [15],\n",
       "       [18],\n",
       "       [17],\n",
       "       [20],\n",
       "       [20],\n",
       "       [21],\n",
       "       [20],\n",
       "       [19],\n",
       "       [19],\n",
       "       [16],\n",
       "       [15],\n",
       "       [14],\n",
       "       [ 9],\n",
       "       [ 9],\n",
       "       [12],\n",
       "       [ 9],\n",
       "       [ 7],\n",
       "       [ 5],\n",
       "       [ 6],\n",
       "       [ 6],\n",
       "       [ 6],\n",
       "       [ 6],\n",
       "       [ 6],\n",
       "       [ 7],\n",
       "       [ 8],\n",
       "       [ 8],\n",
       "       [ 8],\n",
       "       [ 6],\n",
       "       [ 4],\n",
       "       [ 5]])"
      ]
     },
     "execution_count": 718,
     "metadata": {},
     "output_type": "execute_result"
    }
   ],
   "source": [
    "y_pred_sj.astype(int)"
   ]
  },
  {
   "cell_type": "markdown",
   "id": "responsible-monaco",
   "metadata": {},
   "source": [
    "#### Iquitos"
   ]
  },
  {
   "cell_type": "code",
   "execution_count": 719,
   "id": "signed-beads",
   "metadata": {
    "ExecuteTime": {
     "end_time": "2021-06-26T11:17:04.216584Z",
     "start_time": "2021-06-26T11:17:04.205537Z"
    }
   },
   "outputs": [],
   "source": [
    "X_train_iq = deng_iq_train.drop(columns = ['week_start_date', 'city', 'year', 'weekofyear', 'total_cases'])\n",
    "y_train_iq = deng_iq_train['total_cases']\n",
    "X_val_iq = deng_iq_val.drop(columns = ['week_start_date', 'city', 'year', 'weekofyear', 'total_cases'])\n",
    "y_val_iq = deng_iq_val['total_cases']\n",
    "X_test_iq = test_iq.drop(columns = ['week_start_date', 'city', 'year', 'weekofyear'])"
   ]
  },
  {
   "cell_type": "code",
   "execution_count": 720,
   "id": "aggregate-uniform",
   "metadata": {
    "ExecuteTime": {
     "end_time": "2021-06-26T11:17:04.256355Z",
     "start_time": "2021-06-26T11:17:04.222350Z"
    }
   },
   "outputs": [],
   "source": [
    "scaler_iq = RobustScaler()\n",
    "X_train_iq = scaler_iq.fit_transform(X_train_iq)\n",
    "X_val_iq = scaler_iq.transform(X_val_iq)"
   ]
  },
  {
   "cell_type": "code",
   "execution_count": 721,
   "id": "boring-print",
   "metadata": {
    "ExecuteTime": {
     "end_time": "2021-06-26T11:17:13.303314Z",
     "start_time": "2021-06-26T11:17:04.259021Z"
    }
   },
   "outputs": [
    {
     "name": "stdout",
     "output_type": "stream",
     "text": [
      "Epoch 1/1000\n",
      "26/26 [==============================] - 1s 12ms/step - loss: 7.3642 - mae: 7.3642 - val_loss: 14.3112 - val_mae: 14.3112\n",
      "Epoch 2/1000\n",
      "26/26 [==============================] - 0s 3ms/step - loss: 7.5379 - mae: 7.5379 - val_loss: 14.2343 - val_mae: 14.2343\n",
      "Epoch 3/1000\n",
      "26/26 [==============================] - 0s 4ms/step - loss: 6.6535 - mae: 6.6535 - val_loss: 14.1410 - val_mae: 14.1410\n",
      "Epoch 4/1000\n",
      "26/26 [==============================] - 0s 4ms/step - loss: 6.5961 - mae: 6.5961 - val_loss: 14.0217 - val_mae: 14.0217\n",
      "Epoch 5/1000\n",
      "26/26 [==============================] - 0s 3ms/step - loss: 6.8596 - mae: 6.8596 - val_loss: 13.8449 - val_mae: 13.8449\n",
      "Epoch 6/1000\n",
      "26/26 [==============================] - 0s 3ms/step - loss: 5.8678 - mae: 5.8678 - val_loss: 13.6794 - val_mae: 13.6794\n",
      "Epoch 7/1000\n",
      "26/26 [==============================] - 0s 3ms/step - loss: 5.6717 - mae: 5.6717 - val_loss: 13.5171 - val_mae: 13.5171\n",
      "Epoch 8/1000\n",
      "26/26 [==============================] - 0s 3ms/step - loss: 6.3657 - mae: 6.3657 - val_loss: 13.2970 - val_mae: 13.2970\n",
      "Epoch 9/1000\n",
      "26/26 [==============================] - 0s 3ms/step - loss: 5.8235 - mae: 5.8235 - val_loss: 13.1481 - val_mae: 13.1481\n",
      "Epoch 10/1000\n",
      "26/26 [==============================] - 0s 3ms/step - loss: 6.2894 - mae: 6.2894 - val_loss: 13.0114 - val_mae: 13.0114\n",
      "Epoch 11/1000\n",
      "26/26 [==============================] - 0s 3ms/step - loss: 6.5811 - mae: 6.5811 - val_loss: 12.9607 - val_mae: 12.9607\n",
      "Epoch 12/1000\n",
      "26/26 [==============================] - 0s 4ms/step - loss: 6.2129 - mae: 6.2129 - val_loss: 12.9223 - val_mae: 12.9223\n",
      "Epoch 13/1000\n",
      "26/26 [==============================] - 0s 4ms/step - loss: 5.9751 - mae: 5.9751 - val_loss: 12.7021 - val_mae: 12.7021\n",
      "Epoch 14/1000\n",
      "26/26 [==============================] - 0s 3ms/step - loss: 6.6321 - mae: 6.6321 - val_loss: 12.6679 - val_mae: 12.6679\n",
      "Epoch 15/1000\n",
      "26/26 [==============================] - 0s 4ms/step - loss: 6.3700 - mae: 6.3700 - val_loss: 12.6649 - val_mae: 12.6649\n",
      "Epoch 16/1000\n",
      "26/26 [==============================] - 0s 3ms/step - loss: 6.4586 - mae: 6.4586 - val_loss: 12.5471 - val_mae: 12.5471\n",
      "Epoch 17/1000\n",
      "26/26 [==============================] - 0s 3ms/step - loss: 5.9685 - mae: 5.9685 - val_loss: 12.5760 - val_mae: 12.5760\n",
      "Epoch 18/1000\n",
      "26/26 [==============================] - 0s 4ms/step - loss: 5.7375 - mae: 5.7375 - val_loss: 12.6372 - val_mae: 12.6372\n",
      "Epoch 19/1000\n",
      "26/26 [==============================] - 0s 3ms/step - loss: 6.2842 - mae: 6.2842 - val_loss: 12.6924 - val_mae: 12.6924\n",
      "Epoch 20/1000\n",
      "26/26 [==============================] - 0s 3ms/step - loss: 6.0301 - mae: 6.0301 - val_loss: 12.7864 - val_mae: 12.7864\n",
      "Epoch 21/1000\n",
      "26/26 [==============================] - 0s 3ms/step - loss: 6.1004 - mae: 6.1004 - val_loss: 12.6985 - val_mae: 12.6985\n",
      "Epoch 22/1000\n",
      "26/26 [==============================] - 0s 3ms/step - loss: 5.4208 - mae: 5.4208 - val_loss: 12.5255 - val_mae: 12.5255\n",
      "Epoch 23/1000\n",
      "26/26 [==============================] - 0s 3ms/step - loss: 6.0251 - mae: 6.0251 - val_loss: 12.4355 - val_mae: 12.4355\n",
      "Epoch 24/1000\n",
      "26/26 [==============================] - 0s 3ms/step - loss: 6.4401 - mae: 6.4401 - val_loss: 12.3192 - val_mae: 12.3192\n",
      "Epoch 25/1000\n",
      "26/26 [==============================] - 0s 4ms/step - loss: 5.9141 - mae: 5.9141 - val_loss: 12.3506 - val_mae: 12.3506\n",
      "Epoch 26/1000\n",
      "26/26 [==============================] - 0s 6ms/step - loss: 5.4470 - mae: 5.4470 - val_loss: 12.2356 - val_mae: 12.2356\n",
      "Epoch 27/1000\n",
      "26/26 [==============================] - 0s 3ms/step - loss: 5.3834 - mae: 5.3834 - val_loss: 12.2636 - val_mae: 12.2636\n",
      "Epoch 28/1000\n",
      "26/26 [==============================] - 0s 3ms/step - loss: 6.1624 - mae: 6.1624 - val_loss: 12.2793 - val_mae: 12.2793\n",
      "Epoch 29/1000\n",
      "26/26 [==============================] - 0s 4ms/step - loss: 5.0685 - mae: 5.0685 - val_loss: 12.2269 - val_mae: 12.2269\n",
      "Epoch 30/1000\n",
      "26/26 [==============================] - 0s 3ms/step - loss: 5.1291 - mae: 5.1291 - val_loss: 12.1535 - val_mae: 12.1535\n",
      "Epoch 31/1000\n",
      "26/26 [==============================] - 0s 3ms/step - loss: 5.1501 - mae: 5.1501 - val_loss: 12.2931 - val_mae: 12.2931\n",
      "Epoch 32/1000\n",
      "26/26 [==============================] - 0s 3ms/step - loss: 5.1720 - mae: 5.1720 - val_loss: 12.1758 - val_mae: 12.1758\n",
      "Epoch 33/1000\n",
      "26/26 [==============================] - 0s 3ms/step - loss: 5.1680 - mae: 5.1680 - val_loss: 12.0897 - val_mae: 12.0897\n",
      "Epoch 34/1000\n",
      "26/26 [==============================] - 0s 3ms/step - loss: 6.0101 - mae: 6.0101 - val_loss: 12.0481 - val_mae: 12.0481\n",
      "Epoch 35/1000\n",
      "26/26 [==============================] - 0s 3ms/step - loss: 5.8598 - mae: 5.8598 - val_loss: 12.1494 - val_mae: 12.1494\n",
      "Epoch 36/1000\n",
      "26/26 [==============================] - 0s 3ms/step - loss: 4.8950 - mae: 4.8950 - val_loss: 12.1811 - val_mae: 12.1811\n",
      "Epoch 37/1000\n",
      "26/26 [==============================] - 0s 4ms/step - loss: 5.1842 - mae: 5.1842 - val_loss: 12.1805 - val_mae: 12.1805\n",
      "Epoch 38/1000\n",
      "26/26 [==============================] - 0s 5ms/step - loss: 6.1628 - mae: 6.1628 - val_loss: 12.1609 - val_mae: 12.1609\n",
      "Epoch 39/1000\n",
      "26/26 [==============================] - 0s 6ms/step - loss: 5.7029 - mae: 5.7029 - val_loss: 12.1024 - val_mae: 12.1024\n",
      "Epoch 40/1000\n",
      "26/26 [==============================] - 0s 8ms/step - loss: 4.8790 - mae: 4.8790 - val_loss: 12.1279 - val_mae: 12.1279\n",
      "Epoch 41/1000\n",
      "26/26 [==============================] - 0s 8ms/step - loss: 5.2382 - mae: 5.2382 - val_loss: 12.1230 - val_mae: 12.1230\n",
      "Epoch 42/1000\n",
      "26/26 [==============================] - 0s 7ms/step - loss: 5.7520 - mae: 5.7520 - val_loss: 12.1244 - val_mae: 12.1244\n",
      "Epoch 43/1000\n",
      "26/26 [==============================] - 0s 6ms/step - loss: 6.1083 - mae: 6.1083 - val_loss: 12.1043 - val_mae: 12.1043\n",
      "Epoch 44/1000\n",
      "26/26 [==============================] - 0s 7ms/step - loss: 4.8384 - mae: 4.8384 - val_loss: 12.0285 - val_mae: 12.0285\n",
      "Epoch 45/1000\n",
      "26/26 [==============================] - 0s 5ms/step - loss: 5.6003 - mae: 5.6003 - val_loss: 11.9946 - val_mae: 11.9946\n",
      "Epoch 46/1000\n",
      "26/26 [==============================] - 0s 5ms/step - loss: 5.5463 - mae: 5.5463 - val_loss: 11.9246 - val_mae: 11.9246\n",
      "Epoch 47/1000\n",
      "26/26 [==============================] - 0s 5ms/step - loss: 5.2428 - mae: 5.2428 - val_loss: 11.9699 - val_mae: 11.9699\n",
      "Epoch 48/1000\n",
      "26/26 [==============================] - 0s 8ms/step - loss: 5.5778 - mae: 5.5778 - val_loss: 11.9935 - val_mae: 11.9935\n",
      "Epoch 49/1000\n",
      "26/26 [==============================] - 0s 4ms/step - loss: 5.5175 - mae: 5.5175 - val_loss: 11.9707 - val_mae: 11.9707\n",
      "Epoch 50/1000\n",
      "26/26 [==============================] - 0s 4ms/step - loss: 5.3099 - mae: 5.3099 - val_loss: 11.8845 - val_mae: 11.8845\n",
      "Epoch 51/1000\n",
      "26/26 [==============================] - 0s 4ms/step - loss: 5.4739 - mae: 5.4739 - val_loss: 11.9173 - val_mae: 11.9173\n",
      "Epoch 52/1000\n",
      "26/26 [==============================] - 0s 3ms/step - loss: 5.4687 - mae: 5.4687 - val_loss: 11.9464 - val_mae: 11.9464\n",
      "Epoch 53/1000\n",
      "26/26 [==============================] - 0s 3ms/step - loss: 5.4390 - mae: 5.4390 - val_loss: 11.9806 - val_mae: 11.9806\n",
      "Epoch 54/1000\n",
      "26/26 [==============================] - 0s 7ms/step - loss: 5.3382 - mae: 5.3382 - val_loss: 11.9855 - val_mae: 11.9855\n",
      "Epoch 55/1000\n",
      "26/26 [==============================] - 0s 6ms/step - loss: 5.8322 - mae: 5.8322 - val_loss: 11.9718 - val_mae: 11.9718\n",
      "Epoch 56/1000\n",
      "26/26 [==============================] - 0s 7ms/step - loss: 6.0373 - mae: 6.0373 - val_loss: 11.9369 - val_mae: 11.9369\n",
      "Epoch 57/1000\n",
      "26/26 [==============================] - 0s 5ms/step - loss: 5.5096 - mae: 5.5096 - val_loss: 11.8933 - val_mae: 11.8933\n",
      "Epoch 58/1000\n",
      "26/26 [==============================] - 0s 3ms/step - loss: 5.2819 - mae: 5.2819 - val_loss: 11.8912 - val_mae: 11.8912\n",
      "Epoch 59/1000\n",
      "26/26 [==============================] - 0s 3ms/step - loss: 5.4618 - mae: 5.4618 - val_loss: 11.8515 - val_mae: 11.8515\n",
      "Epoch 60/1000\n",
      "26/26 [==============================] - 0s 4ms/step - loss: 5.3508 - mae: 5.3508 - val_loss: 11.8625 - val_mae: 11.8625\n",
      "Epoch 61/1000\n",
      "26/26 [==============================] - 0s 3ms/step - loss: 5.2110 - mae: 5.2110 - val_loss: 11.8764 - val_mae: 11.8764\n"
     ]
    },
    {
     "name": "stdout",
     "output_type": "stream",
     "text": [
      "Epoch 62/1000\n",
      "26/26 [==============================] - 0s 3ms/step - loss: 5.1828 - mae: 5.1828 - val_loss: 11.8569 - val_mae: 11.8569\n",
      "Epoch 63/1000\n",
      "26/26 [==============================] - 0s 5ms/step - loss: 5.1499 - mae: 5.1499 - val_loss: 11.8775 - val_mae: 11.8775\n",
      "Epoch 64/1000\n",
      "26/26 [==============================] - 0s 4ms/step - loss: 4.9581 - mae: 4.9581 - val_loss: 11.8218 - val_mae: 11.8218\n",
      "Epoch 65/1000\n",
      "26/26 [==============================] - 0s 3ms/step - loss: 4.9381 - mae: 4.9381 - val_loss: 11.7902 - val_mae: 11.7902\n",
      "Epoch 66/1000\n",
      "26/26 [==============================] - 0s 3ms/step - loss: 5.1675 - mae: 5.1675 - val_loss: 11.7810 - val_mae: 11.7810\n",
      "Epoch 67/1000\n",
      "26/26 [==============================] - 0s 3ms/step - loss: 5.5932 - mae: 5.5932 - val_loss: 11.7540 - val_mae: 11.7540\n",
      "Epoch 68/1000\n",
      "26/26 [==============================] - 0s 3ms/step - loss: 5.1234 - mae: 5.1234 - val_loss: 11.8157 - val_mae: 11.8157\n",
      "Epoch 69/1000\n",
      "26/26 [==============================] - 0s 3ms/step - loss: 5.1712 - mae: 5.1712 - val_loss: 11.7987 - val_mae: 11.7987\n",
      "Epoch 70/1000\n",
      "26/26 [==============================] - 0s 3ms/step - loss: 5.0426 - mae: 5.0426 - val_loss: 11.8142 - val_mae: 11.8142\n",
      "Epoch 71/1000\n",
      "26/26 [==============================] - 0s 4ms/step - loss: 4.5327 - mae: 4.5327 - val_loss: 11.8012 - val_mae: 11.8012\n",
      "Epoch 72/1000\n",
      "26/26 [==============================] - 0s 4ms/step - loss: 5.6916 - mae: 5.6916 - val_loss: 11.7695 - val_mae: 11.7695\n",
      "Epoch 73/1000\n",
      "26/26 [==============================] - 0s 3ms/step - loss: 5.2427 - mae: 5.2427 - val_loss: 11.7568 - val_mae: 11.7568\n",
      "Epoch 74/1000\n",
      "26/26 [==============================] - 0s 3ms/step - loss: 5.1952 - mae: 5.1952 - val_loss: 11.7978 - val_mae: 11.7978\n",
      "Epoch 75/1000\n",
      "26/26 [==============================] - 0s 3ms/step - loss: 5.3560 - mae: 5.3560 - val_loss: 11.8322 - val_mae: 11.8322\n",
      "Epoch 76/1000\n",
      "26/26 [==============================] - 0s 3ms/step - loss: 5.5242 - mae: 5.5242 - val_loss: 11.7871 - val_mae: 11.7871\n",
      "Epoch 77/1000\n",
      "26/26 [==============================] - 0s 3ms/step - loss: 4.7597 - mae: 4.7597 - val_loss: 11.8087 - val_mae: 11.8087\n",
      "Restoring model weights from the end of the best epoch.\n",
      "Epoch 00077: early stopping\n",
      "2/2 [==============================] - 0s 3ms/step - loss: 3.5683 - mae: 3.5683\n"
     ]
    },
    {
     "data": {
      "text/plain": [
       "[3.5682621002197266, 3.5682621002197266]"
      ]
     },
     "execution_count": 721,
     "metadata": {},
     "output_type": "execute_result"
    }
   ],
   "source": [
    "# LAYERS\n",
    "def init_model():\n",
    "\n",
    "    model = models.Sequential()\n",
    "    model.add(layers.Dense(20, activation='relu'))\n",
    "    model.add(layers.Dropout(rate=0.4))\n",
    "    model.add(layers.Dense(15, activation='relu'))\n",
    "    model.add(layers.Dropout(rate=0.4))\n",
    "    model.add(layers.Dense(10, activation='relu'))\n",
    "    model.add(layers.Dropout(rate=0.4))\n",
    "    model.add(layers.Dense(5, activation='relu'))\n",
    "    model.add(layers.Dropout(rate=0.4))\n",
    "    model.add(layers.Dense(1, activation='linear'))\n",
    "    \n",
    "    model.compile(loss='mean_absolute_error', \n",
    "                  optimizer='adam', \n",
    "                  metrics=['mae'])\n",
    "    return model\n",
    "\n",
    "model = init_model()\n",
    "\n",
    "es = EarlyStopping(monitor='val_loss', mode='min', verbose=1, patience=10, restore_best_weights=True)\n",
    "\n",
    "history_iq = model.fit(X_train_iq, y_train_iq,\n",
    "            validation_split=0.10,\n",
    "            epochs=1000, \n",
    "            batch_size=16,\n",
    "            callbacks=[es])\n",
    "model.evaluate(X_val_iq, y_val_iq)"
   ]
  },
  {
   "cell_type": "code",
   "execution_count": 722,
   "id": "proprietary-prairie",
   "metadata": {
    "ExecuteTime": {
     "end_time": "2021-06-26T11:17:13.788261Z",
     "start_time": "2021-06-26T11:17:13.306620Z"
    }
   },
   "outputs": [
    {
     "data": {
      "image/png": "[encoded data removed]",
      "text/plain": [
       "<Figure size 432x288 with 1 Axes>"
      ]
     },
     "metadata": {
      "needs_background": "light"
     },
     "output_type": "display_data"
    },
    {
     "data": {
      "image/png": "[encoded data removed]",
      "text/plain": [
       "<Figure size 432x288 with 1 Axes>"
      ]
     },
     "metadata": {
      "needs_background": "light"
     },
     "output_type": "display_data"
    }
   ],
   "source": [
    "plot_loss_mae(history_iq)"
   ]
  },
  {
   "cell_type": "code",
   "execution_count": 723,
   "id": "optical-accounting",
   "metadata": {
    "ExecuteTime": {
     "end_time": "2021-06-26T11:17:13.882012Z",
     "start_time": "2021-06-26T11:17:13.791438Z"
    }
   },
   "outputs": [],
   "source": [
    "X_test_iq = scaler_iq.transform(X_test_iq)\n",
    "y_pred_iq = model.predict(X_test_iq)"
   ]
  },
  {
   "cell_type": "code",
   "execution_count": 724,
   "id": "previous-examination",
   "metadata": {
    "ExecuteTime": {
     "end_time": "2021-06-26T11:17:13.891811Z",
     "start_time": "2021-06-26T11:17:13.884877Z"
    }
   },
   "outputs": [
    {
     "data": {
      "text/plain": [
       "array([[4],\n",
       "       [3],\n",
       "       [3],\n",
       "       [2],\n",
       "       [1],\n",
       "       [2],\n",
       "       [1],\n",
       "       [1],\n",
       "       [1],\n",
       "       [1],\n",
       "       [1],\n",
       "       [1],\n",
       "       [1],\n",
       "       [1],\n",
       "       [1],\n",
       "       [1],\n",
       "       [1],\n",
       "       [1],\n",
       "       [3],\n",
       "       [2],\n",
       "       [1],\n",
       "       [3],\n",
       "       [2],\n",
       "       [3],\n",
       "       [5],\n",
       "       [3],\n",
       "       [1],\n",
       "       [2],\n",
       "       [2],\n",
       "       [2],\n",
       "       [1],\n",
       "       [1],\n",
       "       [1],\n",
       "       [1],\n",
       "       [1],\n",
       "       [2],\n",
       "       [1],\n",
       "       [3],\n",
       "       [3],\n",
       "       [3],\n",
       "       [2],\n",
       "       [3],\n",
       "       [2],\n",
       "       [4],\n",
       "       [5],\n",
       "       [2],\n",
       "       [2],\n",
       "       [3],\n",
       "       [3],\n",
       "       [2],\n",
       "       [1],\n",
       "       [1],\n",
       "       [1],\n",
       "       [1],\n",
       "       [2],\n",
       "       [1],\n",
       "       [1],\n",
       "       [1],\n",
       "       [1],\n",
       "       [1],\n",
       "       [1],\n",
       "       [1],\n",
       "       [1],\n",
       "       [1],\n",
       "       [1],\n",
       "       [1],\n",
       "       [2],\n",
       "       [2],\n",
       "       [4],\n",
       "       [2],\n",
       "       [2],\n",
       "       [1],\n",
       "       [1],\n",
       "       [1],\n",
       "       [2],\n",
       "       [1],\n",
       "       [5],\n",
       "       [2],\n",
       "       [5],\n",
       "       [2],\n",
       "       [2],\n",
       "       [2],\n",
       "       [3],\n",
       "       [3],\n",
       "       [1],\n",
       "       [1],\n",
       "       [3],\n",
       "       [3],\n",
       "       [6],\n",
       "       [4],\n",
       "       [3],\n",
       "       [3],\n",
       "       [2],\n",
       "       [3],\n",
       "       [6],\n",
       "       [4],\n",
       "       [3],\n",
       "       [2],\n",
       "       [2],\n",
       "       [2],\n",
       "       [1],\n",
       "       [2],\n",
       "       [1],\n",
       "       [2],\n",
       "       [1],\n",
       "       [1],\n",
       "       [1],\n",
       "       [1],\n",
       "       [1],\n",
       "       [1],\n",
       "       [1],\n",
       "       [1],\n",
       "       [1],\n",
       "       [1],\n",
       "       [1],\n",
       "       [1],\n",
       "       [1],\n",
       "       [1],\n",
       "       [1],\n",
       "       [1],\n",
       "       [2],\n",
       "       [4],\n",
       "       [5],\n",
       "       [4],\n",
       "       [5],\n",
       "       [8],\n",
       "       [8],\n",
       "       [7],\n",
       "       [5],\n",
       "       [4],\n",
       "       [2],\n",
       "       [2],\n",
       "       [2],\n",
       "       [5],\n",
       "       [4],\n",
       "       [5],\n",
       "       [4],\n",
       "       [4],\n",
       "       [3],\n",
       "       [3],\n",
       "       [5],\n",
       "       [6],\n",
       "       [7],\n",
       "       [5],\n",
       "       [5],\n",
       "       [5],\n",
       "       [4],\n",
       "       [2],\n",
       "       [2],\n",
       "       [2],\n",
       "       [1],\n",
       "       [2],\n",
       "       [2],\n",
       "       [2],\n",
       "       [1],\n",
       "       [1]])"
      ]
     },
     "execution_count": 724,
     "metadata": {},
     "output_type": "execute_result"
    }
   ],
   "source": [
    "y_pred_iq.astype(int)"
   ]
  },
  {
   "cell_type": "markdown",
   "id": "enclosed-concern",
   "metadata": {},
   "source": [
    "### Submission"
   ]
  },
  {
   "cell_type": "code",
   "execution_count": 734,
   "id": "intimate-assembly",
   "metadata": {
    "ExecuteTime": {
     "end_time": "2021-06-26T11:26:53.873217Z",
     "start_time": "2021-06-26T11:26:53.862486Z"
    }
   },
   "outputs": [],
   "source": [
    "def submission(predictions_sj, predictions_iq, test_sj, test_iq):\n",
    "    \n",
    "    prediction_sj = []\n",
    "    for p in y_pred_sj:\n",
    "        prediction_sj.append(int(p))\n",
    "\n",
    "    prediction_iq = []\n",
    "    for p in y_pred_iq:\n",
    "        prediction_iq.append(int(p))\n",
    "    \n",
    "    submission_sj = test_sj[['city', 'year', 'weekofyear']]\n",
    "    submission_sj['total_cases'] = prediction_sj\n",
    "    submission_iq = test_iq[['city', 'year', 'weekofyear']]\n",
    "    submission_iq['total_cases'] = prediction_iq\n",
    "    \n",
    "    submission_final = pd.concat([submission_sj, submission_iq], axis=0)\n",
    "    \n",
    "    return submission_final"
   ]
  },
  {
   "cell_type": "code",
   "execution_count": 735,
   "id": "auburn-concentrate",
   "metadata": {
    "ExecuteTime": {
     "end_time": "2021-06-26T11:26:54.516965Z",
     "start_time": "2021-06-26T11:26:54.486429Z"
    }
   },
   "outputs": [
    {
     "name": "stderr",
     "output_type": "stream",
     "text": [
      "/home/guilherme/.pyenv/versions/3.7.2/lib/python3.7/site-packages/ipykernel_launcher.py:12: SettingWithCopyWarning: \n",
      "A value is trying to be set on a copy of a slice from a DataFrame.\n",
      "Try using .loc[row_indexer,col_indexer] = value instead\n",
      "\n",
      "See the caveats in the documentation: https://pandas.pydata.org/pandas-docs/stable/user_guide/indexing.html#returning-a-view-versus-a-copy\n",
      "  if sys.path[0] == '':\n",
      "/home/guilherme/.pyenv/versions/3.7.2/lib/python3.7/site-packages/ipykernel_launcher.py:14: SettingWithCopyWarning: \n",
      "A value is trying to be set on a copy of a slice from a DataFrame.\n",
      "Try using .loc[row_indexer,col_indexer] = value instead\n",
      "\n",
      "See the caveats in the documentation: https://pandas.pydata.org/pandas-docs/stable/user_guide/indexing.html#returning-a-view-versus-a-copy\n",
      "  \n"
     ]
    }
   ],
   "source": [
    "submission_nn = submission(y_pred_sj, y_pred_iq, test_sj, test_iq)\n",
    "submission_nn.to_csv('data/submission_nn.csv', index=False)"
   ]
  },
  {
   "cell_type": "code",
   "execution_count": null,
   "id": "confirmed-stupid",
   "metadata": {},
   "outputs": [],
   "source": []
  }
 ],
 "metadata": {
  "kernelspec": {
   "display_name": "Python 3",
   "language": "python",
   "name": "python3"
  },
  "language_info": {
   "codemirror_mode": {
    "name": "ipython",
    "version": 3
   },
   "file_extension": ".py",
   "mimetype": "text/x-python",
   "name": "python",
   "nbconvert_exporter": "python",
   "pygments_lexer": "ipython3",
   "version": "3.7.2"
  }
 },
 "nbformat": 4,
 "nbformat_minor": 5
}
